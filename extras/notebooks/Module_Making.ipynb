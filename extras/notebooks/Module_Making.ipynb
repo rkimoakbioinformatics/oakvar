{
 "cells": [
  {
   "cell_type": "markdown",
   "id": "39547daa-a622-4c08-b756-8b716e9fbb77",
   "metadata": {
    "tags": []
   },
   "source": [
    "## Module development"
   ]
  },
  {
   "cell_type": "markdown",
   "id": "6bd50e0b-bf5c-475c-96b6-64592a698523",
   "metadata": {
    "tags": []
   },
   "source": [
    "### Annotator"
   ]
  },
  {
   "cell_type": "code",
   "execution_count": null,
   "id": "5b427c8e-d0ad-415f-bc37-797c7d72627c",
   "metadata": {},
   "outputs": [],
   "source": [
    "from oakvar import BaseAnnotator\n",
    "class Annotator(BaseAnnotator):\n",
    "    def annotate(self, input_data: dict):\n",
    "        out_data = {}\n",
    "        if input_data[\"pos\"] % 2 == 0:\n",
    "            out_data[\"parity\"] = \"even\"\n",
    "        else:\n",
    "            out_data[\"parity\"] = \"odd\"\n",
    "        return out_data"
   ]
  },
  {
   "cell_type": "code",
   "execution_count": null,
   "id": "f4cabded-31a0-4512-b08c-93edf4305eca",
   "metadata": {},
   "outputs": [],
   "source": [
    "awesome_module = Annotator(\n",
    "    name=\"awesome\", \n",
    "    title=\"Awesome annotator\", \n",
    "    level=\"variant\", \n",
    "    code_version=\"0.1.0\", \n",
    "    input_file=\"exampleinput.crv\", \n",
    "    output_columns=[\n",
    "    {\n",
    "        \"name\": \"parity\",\n",
    "        \"type\": \"string\",\n",
    "        \"title\": \"Parity\"\n",
    "    }])"
   ]
  },
  {
   "cell_type": "code",
   "execution_count": null,
   "id": "5ecca046-041b-4a13-9106-4ab5a2f4f133",
   "metadata": {},
   "outputs": [],
   "source": [
    "awesome_module.annotate({\"pos\": 11})"
   ]
  },
  {
   "cell_type": "code",
   "execution_count": null,
   "id": "b1295397-403f-44f7-b322-0b5f6007ba47",
   "metadata": {},
   "outputs": [],
   "source": [
    "awesome_module.save(overwrite=True, interactive=True)"
   ]
  },
  {
   "cell_type": "code",
   "execution_count": null,
   "id": "161baf35-9b62-455a-b30c-07e81a88fe28",
   "metadata": {},
   "outputs": [],
   "source": [
    "m.run()"
   ]
  },
  {
   "cell_type": "code",
   "execution_count": null,
   "id": "5e659e33-4ac1-4414-827d-f905e0696a57",
   "metadata": {},
   "outputs": [],
   "source": [
    "!ov module ls awesome"
   ]
  },
  {
   "cell_type": "code",
   "execution_count": null,
   "id": "1b4d6c9c-9dab-44d2-8873-2e00a0d19a11",
   "metadata": {
    "tags": []
   },
   "outputs": [],
   "source": [
    "!ov module info awesome"
   ]
  },
  {
   "cell_type": "code",
   "execution_count": null,
   "id": "43306ab4-110c-4b51-a424-d7c068cfad7e",
   "metadata": {},
   "outputs": [],
   "source": [
    "!mkdir data"
   ]
  },
  {
   "cell_type": "code",
   "execution_count": null,
   "id": "fb4790a3-1936-490d-95a1-6a7a1387bc50",
   "metadata": {},
   "outputs": [],
   "source": [
    "import sqlite3\n",
    "conn = sqlite3.connect(\"data/awesome.sqlite\")\n",
    "cursor = conn.cursor()\n",
    "cursor.execute(\"drop table if exists scores\")\n",
    "cursor.execute(\"create table scores \"\n",
    "    \"(chrom text, pos int, alt_base text, score float)\")\n",
    "cursor.execute(\"insert into scores \"\n",
    "    \"(chrom, pos, alt_base, score) \"\n",
    "    \"values ('chr10', 87864470, 'T', 0.897)\")\n",
    "cursor.execute(\"insert into scores \"\n",
    "    \"(chrom, pos, alt_base, score) \n",
    "    \"values ('chr1', 12666560, 'A', 0.435)\")\n",
    "cursor.execute(\"create index scores_idx on scores (chrom, pos)\")\n",
    "conn.commit()"
   ]
  },
  {
   "cell_type": "code",
   "execution_count": null,
   "id": "17f76bb5-a0ed-449c-bf7d-e994965cd9c6",
   "metadata": {},
   "outputs": [],
   "source": [
    "def annotate(self, input_data: dict):\n",
    "    out_data = {}\n",
    "    self.cursor.execute(\n",
    "        \"select score from scores where chrom=? and pos=? and alt_base=?\", \n",
    "        (input_data[\"chrom\"], input_data[\"pos\"], input_data[\"alt_base\"])\n",
    "    )\n",
    "    hit = self.cursor.fetchone()\n",
    "    if not hit:\n",
    "        return None\n",
    "    else:\n",
    "        score = hit[0]\n",
    "        return {\"score\": score}"
   ]
  },
  {
   "cell_type": "code",
   "execution_count": null,
   "id": "b16c6763-e1cc-4aa3-97ab-d014030badd4",
   "metadata": {},
   "outputs": [],
   "source": [
    "def query_db(self, chrom: str, pos: int, alt_base: str):\n",
    "    self.cursor.execute(\n",
    "        \"select score from scores where chrom=? and pos=? and alt_base=?\", \n",
    "        (chrom, pos, alt_base)\n",
    "    )\n",
    "    hit = self.cursor.fetchone()\n",
    "    return hit\n",
    "\n",
    "def annotate(self, input_data: dict):\n",
    "    out_data = {}\n",
    "    hit = self.query_db(\n",
    "        input_data[\"chrom\"], input_data[\"pos\"], input_data[\"alt_base\"])\n",
    "    if not hit:\n",
    "        return None\n",
    "    else:\n",
    "        score = hit[0]\n",
    "        return {\"score\": score}\n",
    "\n",
    "awesome_module.add_method(query_db)\n",
    "awesome_module.add_method(annotate)"
   ]
  },
  {
   "cell_type": "code",
   "execution_count": null,
   "id": "0da9f3ca-2d65-4a6f-a790-13ea270b45a5",
   "metadata": {},
   "outputs": [],
   "source": [
    "awesome_module.set_output_columns([\n",
    "    {\"name\": \"score\", \"type\": \"float\", \"title\": \"Score\"}\n",
    "])"
   ]
  },
  {
   "cell_type": "code",
   "execution_count": null,
   "id": "25d37666-e982-4ad6-b197-53a994b1b11f",
   "metadata": {},
   "outputs": [],
   "source": [
    "awesome_module.base_setup()"
   ]
  },
  {
   "cell_type": "code",
   "execution_count": null,
   "id": "bbb48f48-0148-4218-818f-4c2e13b2306e",
   "metadata": {},
   "outputs": [],
   "source": [
    "awesome_module.annotate({\"chrom\": \"chr10\", \"pos\": 87864470, \"alt_base\": \"T\"})"
   ]
  },
  {
   "cell_type": "code",
   "execution_count": null,
   "id": "ed6b8bc9-3b50-4182-a795-fd06c7da6eff",
   "metadata": {},
   "outputs": [],
   "source": [
    "awesome_module.run()"
   ]
  },
  {
   "cell_type": "code",
   "execution_count": null,
   "id": "dca86188-8d38-4772-8d15-965f784b3dff",
   "metadata": {},
   "outputs": [],
   "source": [
    "awesome_module.save(overwrite=True)"
   ]
  },
  {
   "cell_type": "code",
   "execution_count": null,
   "id": "8875964d-b261-4893-ade8-33e82a9a7f16",
   "metadata": {},
   "outputs": [],
   "source": [
    "df=ov.read_crv(\"exampleinput.crv\")"
   ]
  },
  {
   "cell_type": "code",
   "execution_count": null,
   "id": "31575f1b-39e4-40be-8270-273b086b04de",
   "metadata": {},
   "outputs": [],
   "source": [
    "def annotate_df(self, df):\n",
    "    import polars as pl\n",
    "    return df.with_columns(pl.col(\"pos\").apply(lambda x: \"even\" if x % 2 == 0 else \"odd\").alias(\"col1\"))    "
   ]
  },
  {
   "cell_type": "code",
   "execution_count": null,
   "id": "1d104bca-1be7-4eaa-bba6-faefccd48421",
   "metadata": {},
   "outputs": [],
   "source": [
    "m.add_method(annotate_df)"
   ]
  },
  {
   "cell_type": "code",
   "execution_count": null,
   "id": "3476f263-00bb-45ce-88dc-1581e26c435a",
   "metadata": {
    "tags": []
   },
   "outputs": [],
   "source": [
    "m.run_df(df)"
   ]
  },
  {
   "cell_type": "markdown",
   "id": "906035fb-693d-428a-affe-2d7e5a4373cd",
   "metadata": {
    "tags": []
   },
   "source": [
    "### Converter"
   ]
  },
  {
   "cell_type": "code",
   "execution_count": null,
   "id": "85997974-8d08-4a7b-ac67-5cf53f82dffa",
   "metadata": {},
   "outputs": [],
   "source": [
    "from oakvar import BaseConverter\n",
    "class Converter(BaseConverter):\n",
    "    def convert_line(self, line):\n",
    "        words = line.split()\n",
    "        [chrom, pos, strand, ref_base, alt_base] = words[:5]\n",
    "        out_data = {\"chrom\":chrom, \"pos\": pos, \"ref_base\": ref_base, \"alt_base\": alt_base}\n",
    "        return out_data"
   ]
  },
  {
   "cell_type": "code",
   "execution_count": null,
   "id": "8525181c-c117-4d35-957d-397e51eaeea8",
   "metadata": {},
   "outputs": [],
   "source": [
    "c = Converter(name=\"awesome-converter\", code_version=\"0.1.0\", title=\"Awesome Converter\")"
   ]
  },
  {
   "cell_type": "code",
   "execution_count": null,
   "id": "2bede3be-a010-4e71-a7ea-c8c280f00e26",
   "metadata": {},
   "outputs": [],
   "source": [
    "f = open(\"exampleinput\")"
   ]
  },
  {
   "cell_type": "code",
   "execution_count": null,
   "id": "fea2896b-287d-4361-8aaa-6d7a55729e48",
   "metadata": {
    "tags": []
   },
   "outputs": [],
   "source": [
    "for d in c.convert_file(f):\n",
    "    print(d)"
   ]
  },
  {
   "cell_type": "code",
   "execution_count": null,
   "id": "65ec341c-46f7-46f5-a04c-d73eaa59593f",
   "metadata": {},
   "outputs": [],
   "source": [
    "c.save(overwrite=True)"
   ]
  },
  {
   "cell_type": "code",
   "execution_count": null,
   "id": "cb8bda92-ad29-498c-9d2f-32523a10828d",
   "metadata": {},
   "outputs": [],
   "source": [
    "from oakvar import MasterConverter\n",
    "mc = MasterConverter([\"exampleinput\"])\n",
    "mc.run()"
   ]
  },
  {
   "cell_type": "code",
   "execution_count": null,
   "id": "db6d1647-2c4e-437b-a9ba-3a990764f1ca",
   "metadata": {},
   "outputs": [],
   "source": [
    "inspect.linecache.getlines(inspect.getfile(Annotator))"
   ]
  },
  {
   "cell_type": "code",
   "execution_count": null,
   "id": "76363279-a021-4407-9be6-a63c1733b09b",
   "metadata": {},
   "outputs": [],
   "source": [
    "print(\"\".join(inspect.getsourcelines(Annotator)[0]))"
   ]
  },
  {
   "cell_type": "code",
   "execution_count": null,
   "id": "8bea1c0e-f732-4947-a74c-dd18c401f3c1",
   "metadata": {},
   "outputs": [],
   "source": [
    "from IPython.core.magics.code import extract_symbols"
   ]
  },
  {
   "cell_type": "code",
   "execution_count": null,
   "id": "c2119e3c-dec8-4a75-8ed0-480936c16e88",
   "metadata": {},
   "outputs": [],
   "source": [
    "cell_code = \"\".join(inspect.linecache.getlines(new_getfile(Annotator)))"
   ]
  },
  {
   "cell_type": "code",
   "execution_count": null,
   "id": "7a074b6f-7b19-4d06-8688-32b33cb16df7",
   "metadata": {},
   "outputs": [],
   "source": [
    "cell_code"
   ]
  },
  {
   "cell_type": "code",
   "execution_count": null,
   "id": "0d79cd5f-1130-4451-a4eb-32db8a068fd0",
   "metadata": {},
   "outputs": [],
   "source": [
    "m = Annotator(module_name=\"awesome\", level=\"variant\", output_columns=[{\"name\": \"col1\", \"type\": \"string\", \"title\": \"Col1\"}])"
   ]
  },
  {
   "cell_type": "code",
   "execution_count": null,
   "id": "f934c592-31e4-4130-884e-dc19f6f2c058",
   "metadata": {},
   "outputs": [],
   "source": [
    "with open(\"text.py\", \"w\") as wf:\n",
    "    wf.write(str(Annotator))"
   ]
  },
  {
   "cell_type": "code",
   "execution_count": null,
   "id": "c8c99340-598e-40d0-9c9c-294199b4650c",
   "metadata": {},
   "outputs": [],
   "source": [
    "print(type(Annotator))"
   ]
  },
  {
   "cell_type": "code",
   "execution_count": null,
   "id": "98efc939-380c-445a-8cd2-c22d23d2ef5f",
   "metadata": {
    "tags": []
   },
   "outputs": [],
   "source": [
    "inspect.getsourcelines(ov.BaseAnnotator)"
   ]
  },
  {
   "cell_type": "code",
   "execution_count": null,
   "id": "a2b718c1-d068-4697-b0df-779d39136b5d",
   "metadata": {},
   "outputs": [],
   "source": [
    "__main__.__file__ = \"test.py\""
   ]
  },
  {
   "cell_type": "code",
   "execution_count": null,
   "id": "f5d49be4-18fb-4bfb-a1f3-d65b79e450b6",
   "metadata": {},
   "outputs": [],
   "source": [
    "class A:\n",
    "    pass\n",
    "print(type(A))"
   ]
  },
  {
   "cell_type": "code",
   "execution_count": null,
   "id": "58fe8747-ca8c-438c-8c45-c419d80681fb",
   "metadata": {
    "tags": []
   },
   "outputs": [],
   "source": [
    "import inspect\n",
    "inspect.getsource(m)"
   ]
  },
  {
   "cell_type": "code",
   "execution_count": null,
   "id": "bdb00b92-5ae7-461a-88c2-e200557819d0",
   "metadata": {},
   "outputs": [],
   "source": [
    "c=ov.get_live_annotator(module_name=\"clinvar\")"
   ]
  },
  {
   "cell_type": "code",
   "execution_count": null,
   "id": "a730fdd7-0284-4914-bfc8-36a737f1ec3d",
   "metadata": {},
   "outputs": [],
   "source": [
    "c.annotate({\"chrom\": \"chr11\", \"pos\": 64810053, \"ref_base\": \"-\", \"alt_base\": \"A\"})"
   ]
  },
  {
   "cell_type": "code",
   "execution_count": null,
   "id": "76914e5d-2f1b-49b5-8034-cc0211862732",
   "metadata": {},
   "outputs": [],
   "source": []
  }
 ],
 "metadata": {
  "kernelspec": {
   "display_name": "Python 3 (ipykernel)",
   "language": "python",
   "name": "python3"
  },
  "language_info": {
   "codemirror_mode": {
    "name": "ipython",
    "version": 3
   },
   "file_extension": ".py",
   "mimetype": "text/x-python",
   "name": "python",
   "nbconvert_exporter": "python",
   "pygments_lexer": "ipython3",
   "version": "3.8.16"
  }
 },
 "nbformat": 4,
 "nbformat_minor": 5
}
