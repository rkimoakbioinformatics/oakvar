{
 "cells": [
  {
   "cell_type": "code",
   "execution_count": null,
   "id": "c1908fc4-328c-4ba8-a472-27cd6b1a0df1",
   "metadata": {},
   "outputs": [],
   "source": [
    "import oakvar as ov"
   ]
  },
  {
   "cell_type": "code",
   "execution_count": null,
   "id": "2ed6d4bb-184f-4101-9431-2dfca4fc0758",
   "metadata": {},
   "outputs": [],
   "source": [
    "!ov new exampleinput"
   ]
  },
  {
   "cell_type": "code",
   "execution_count": null,
   "id": "b77cb6b1-3f1d-434a-8cc2-0d3c7abb9491",
   "metadata": {
    "tags": []
   },
   "outputs": [],
   "source": [
    "!ov run exampleinput -a clinvar -t vcf"
   ]
  },
  {
   "cell_type": "code",
   "execution_count": null,
   "id": "df403668-a5c0-4c75-910a-54d319ea3106",
   "metadata": {},
   "outputs": [],
   "source": [
    "!ov report exampleinput.sqlite -t tsv"
   ]
  },
  {
   "cell_type": "code",
   "execution_count": null,
   "id": "b77a42cf-1ecc-4e5e-a621-e6be9ad61d81",
   "metadata": {},
   "outputs": [],
   "source": []
  }
 ],
 "metadata": {
  "kernelspec": {
   "display_name": "Python 3 (ipykernel)",
   "language": "python",
   "name": "python3"
  },
  "language_info": {
   "codemirror_mode": {
    "name": "ipython",
    "version": 3
   },
   "file_extension": ".py",
   "mimetype": "text/x-python",
   "name": "python",
   "nbconvert_exporter": "python",
   "pygments_lexer": "ipython3",
   "version": "3.8.16"
  }
 },
 "nbformat": 4,
 "nbformat_minor": 5
}
