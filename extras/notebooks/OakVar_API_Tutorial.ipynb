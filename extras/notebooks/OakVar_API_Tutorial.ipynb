{
 "cells": [
  {
   "cell_type": "code",
   "execution_count": null,
   "id": "c1908fc4-328c-4ba8-a472-27cd6b1a0df1",
   "metadata": {
    "tags": []
   },
   "outputs": [],
   "source": [
    "import oakvar as ov"
   ]
  },
  {
   "cell_type": "markdown",
   "id": "045df754-bc28-4d85-9008-b277aba8d72d",
   "metadata": {
    "tags": []
   },
   "source": [
    "## Install and setup"
   ]
  },
  {
   "cell_type": "markdown",
   "id": "947b7a3a-df66-441a-aa9f-0f3aa7a10470",
   "metadata": {
    "tags": []
   },
   "source": [
    "##### Install"
   ]
  },
  {
   "cell_type": "code",
   "execution_count": null,
   "id": "4841df34-520c-4875-a873-de638ff6be17",
   "metadata": {},
   "outputs": [],
   "source": [
    "!pip install -U oakvar"
   ]
  },
  {
   "cell_type": "markdown",
   "id": "3a935c03-7bb8-4b35-a642-ea7834489561",
   "metadata": {
    "tags": []
   },
   "source": [
    "##### Setup"
   ]
  },
  {
   "cell_type": "code",
   "execution_count": null,
   "id": "6d6627bd-df32-4257-b550-935ce2b27e46",
   "metadata": {
    "tags": []
   },
   "outputs": [],
   "source": [
    "ov.api.system.setup(outer=ov.stdouter)"
   ]
  },
  {
   "cell_type": "code",
   "execution_count": null,
   "id": "7708ffd6-ebd3-44c2-ac58-e9a44d2a75bb",
   "metadata": {
    "tags": []
   },
   "outputs": [],
   "source": [
    "ov.api.system.check(outer=ov.stdouter)"
   ]
  },
  {
   "cell_type": "markdown",
   "id": "37e41fed-8ccf-4ab9-8d37-4de81ae0ba45",
   "metadata": {},
   "source": [
    "### Login and logout"
   ]
  },
  {
   "cell_type": "markdown",
   "id": "a24293dd-0870-471c-886f-7678149672c2",
   "metadata": {},
   "source": [
    "_Check login state_"
   ]
  },
  {
   "cell_type": "code",
   "execution_count": null,
   "id": "e42e60e2-883d-44af-9998-6a1341f833c0",
   "metadata": {
    "tags": []
   },
   "outputs": [],
   "source": [
    "ov.api.store.account.check()"
   ]
  },
  {
   "cell_type": "markdown",
   "id": "ec7b974a-b680-44a0-9e55-45d030cc9f12",
   "metadata": {},
   "source": [
    "_Logout_"
   ]
  },
  {
   "cell_type": "code",
   "execution_count": null,
   "id": "f8b80361-1818-4fe2-b82b-26949ae2f3b2",
   "metadata": {},
   "outputs": [],
   "source": [
    "ov.api.store.logout(outer=ov.stdouter)"
   ]
  },
  {
   "cell_type": "markdown",
   "id": "c6d9de6e-0669-46d2-8412-e79b3fd67063",
   "metadata": {},
   "source": [
    "_Login with email and password arguments_"
   ]
  },
  {
   "cell_type": "code",
   "execution_count": null,
   "id": "37698192-7e5f-4ecc-b2e2-4160172186a2",
   "metadata": {
    "tags": []
   },
   "outputs": [],
   "source": [
    "ov.api.store.login(email=\"your@email\", pw=\"your_password\")"
   ]
  },
  {
   "cell_type": "markdown",
   "id": "c1c1e395-3c8c-4ca8-af57-379aa0156122",
   "metadata": {},
   "source": [
    "_Login interactively_"
   ]
  },
  {
   "cell_type": "code",
   "execution_count": null,
   "id": "afbdb800-f9e8-4e53-a244-09bc4486f347",
   "metadata": {
    "tags": []
   },
   "outputs": [],
   "source": [
    "ov.api.store.login(interactive=True)"
   ]
  },
  {
   "cell_type": "markdown",
   "id": "74ce35e7-7fd8-4d89-94f1-2cedc8e87203",
   "metadata": {},
   "source": [
    "_Change password_"
   ]
  },
  {
   "cell_type": "code",
   "execution_count": null,
   "id": "82ac4b96-0119-441d-9e81-072a658e9db8",
   "metadata": {
    "tags": []
   },
   "outputs": [],
   "source": [
    "ov.store.account.change(outer=ov.stdouter)"
   ]
  },
  {
   "cell_type": "markdown",
   "id": "d46a2ed6-a8f1-4918-a5a7-6af469ac878b",
   "metadata": {
    "jp-MarkdownHeadingCollapsed": true,
    "tags": []
   },
   "source": [
    "## Module management"
   ]
  },
  {
   "cell_type": "markdown",
   "id": "947575c9-5208-4741-8365-3de73a303fbf",
   "metadata": {},
   "source": [
    "_List installed modules_"
   ]
  },
  {
   "cell_type": "code",
   "execution_count": null,
   "id": "25c7695f-7112-44de-bc17-43f198aaa077",
   "metadata": {
    "tags": []
   },
   "outputs": [],
   "source": [
    "ov.module.ls()"
   ]
  },
  {
   "cell_type": "markdown",
   "id": "4b776d3d-2794-41ad-9a6e-5eca02d9490a",
   "metadata": {},
   "source": [
    "_List modules available through the OakVar Store. Pattern matching can be used. `outer` is used in this example._"
   ]
  },
  {
   "cell_type": "code",
   "execution_count": null,
   "id": "1e9390e6-235c-4026-aaef-f5358ac6132a",
   "metadata": {
    "tags": []
   },
   "outputs": [],
   "source": [
    "_ = ov.module.ls(available=True, module_names=[\"clin.*\"], outer=ov.stdouter)"
   ]
  },
  {
   "cell_type": "markdown",
   "id": "f387df9e-734f-42b9-b766-efb26e1c0028",
   "metadata": {},
   "source": [
    "_Get information on one module_"
   ]
  },
  {
   "cell_type": "code",
   "execution_count": null,
   "id": "be962aaf-786f-4341-92b3-555c4a5ca7b5",
   "metadata": {
    "tags": []
   },
   "outputs": [],
   "source": [
    "ov.module.info(module_name=\"clinvar\")"
   ]
  },
  {
   "cell_type": "markdown",
   "id": "b2ef794c-9f58-4aec-beb1-925fcdee2bae",
   "metadata": {},
   "source": [
    "_Give outer=ov.stdouter to print the module information to stdout._"
   ]
  },
  {
   "cell_type": "code",
   "execution_count": null,
   "id": "b592d5ba-fac8-4cf9-b5f8-e8f8e4c99323",
   "metadata": {
    "tags": []
   },
   "outputs": [],
   "source": [
    "_ = ov.module.info(module_name=\"clinvar\", outer=ov.stdouter)"
   ]
  },
  {
   "cell_type": "markdown",
   "id": "827e036b-9941-4785-94ac-561bae06c1ca",
   "metadata": {},
   "source": [
    "_Install modules_"
   ]
  },
  {
   "cell_type": "code",
   "execution_count": null,
   "id": "6ca2667f-9fb0-47a5-a921-92e99ef9af82",
   "metadata": {
    "tags": []
   },
   "outputs": [],
   "source": [
    "ov.module.install(module_names=[\"biogrid\", \"tsvreporter\"], outer=ov.stdouter)"
   ]
  },
  {
   "cell_type": "markdown",
   "id": "049b3f8b-52d3-4843-8d17-f0ef8838c1c9",
   "metadata": {},
   "source": [
    "_Uninstall modules_"
   ]
  },
  {
   "cell_type": "code",
   "execution_count": null,
   "id": "229766b6-c90e-4679-832a-06f6ca91b9be",
   "metadata": {},
   "outputs": [],
   "source": [
    "ov.module.uninstall(module_names=[\"biogrid\"], outer=ov.stdouter)"
   ]
  },
  {
   "cell_type": "markdown",
   "id": "4faae67f-6f26-4865-b5a3-3346de2cc7b6",
   "metadata": {},
   "source": [
    "_Let's bring back the biogrid module back._"
   ]
  },
  {
   "cell_type": "code",
   "execution_count": null,
   "id": "dcc33f20-669a-48ff-b60c-523ce9123b09",
   "metadata": {},
   "outputs": [],
   "source": [
    "ov.module.install(module_names=[\"biogrid\"], yes=True)"
   ]
  },
  {
   "cell_type": "markdown",
   "id": "a07d2f47-def7-4b59-a9e8-6bf22285edfe",
   "metadata": {
    "tags": []
   },
   "source": [
    "## Annotate and reports"
   ]
  },
  {
   "cell_type": "markdown",
   "id": "d7a5ad88-f0f4-4b0e-af22-f9cddc426b24",
   "metadata": {
    "jp-MarkdownHeadingCollapsed": true,
    "tags": []
   },
   "source": [
    "##### Create an example input file in the current directory."
   ]
  },
  {
   "cell_type": "markdown",
   "id": "9f520389-9fe5-4a5a-9a05-b99f0584695b",
   "metadata": {},
   "source": [
    "> This should create a file `exampleinput` in the current directory."
   ]
  },
  {
   "cell_type": "code",
   "execution_count": null,
   "id": "2ed6d4bb-184f-4101-9431-2dfca4fc0758",
   "metadata": {
    "tags": []
   },
   "outputs": [],
   "source": [
    "ov.api.new.exampleinput()"
   ]
  },
  {
   "cell_type": "markdown",
   "id": "ba74e028-d8a4-4594-bda0-653913a14bb4",
   "metadata": {
    "tags": []
   },
   "source": [
    "##### Annotate the example input file with the default gene mapper."
   ]
  },
  {
   "cell_type": "markdown",
   "id": "2db534e8-1a1c-4802-8188-2af7022325fc",
   "metadata": {},
   "source": [
    "> This should have created a database file `exampleinput.sqlite`."
   ]
  },
  {
   "cell_type": "code",
   "execution_count": null,
   "id": "d20dc2fa-f29d-4ba0-8ec5-831b2577eae9",
   "metadata": {
    "tags": []
   },
   "outputs": [],
   "source": [
    "ov.api.run(inputs=[\"exampleinput\"])"
   ]
  },
  {
   "cell_type": "markdown",
   "id": "c952a349-8614-4610-af04-f3d5048bfb82",
   "metadata": {
    "tags": []
   },
   "source": [
    "##### Annotation data in the database file can be loaded into Polars dataframe."
   ]
  },
  {
   "cell_type": "markdown",
   "id": "9c725d27-b496-4ba1-b785-6137c1508576",
   "metadata": {},
   "source": [
    "> Variant level (default)"
   ]
  },
  {
   "cell_type": "code",
   "execution_count": null,
   "id": "989e7f50-6fd8-4ca9-ab90-f4e069b2bd45",
   "metadata": {
    "tags": []
   },
   "outputs": [],
   "source": [
    "ov.get_df_from_db(\"exampleinput.sqlite\")"
   ]
  },
  {
   "cell_type": "markdown",
   "id": "5cb08613-6bb8-4e21-a90c-5c89d6e58ac3",
   "metadata": {},
   "source": [
    "> Gene level"
   ]
  },
  {
   "cell_type": "code",
   "execution_count": null,
   "id": "efa4efbc-5188-4f98-91f8-e75ba341ff6a",
   "metadata": {
    "tags": []
   },
   "outputs": [],
   "source": [
    "ov.get_df_from_db(\"exampleinput.sqlite\", \"gene\")"
   ]
  },
  {
   "cell_type": "markdown",
   "id": "40241dec-2b6c-44dc-be5c-3a738f79cbb8",
   "metadata": {},
   "source": [
    "##### Annotate with ClinVar and BioGRID annotators. "
   ]
  },
  {
   "cell_type": "code",
   "execution_count": null,
   "id": "3347e088-db8d-4197-9c9b-f74b6c001876",
   "metadata": {
    "tags": []
   },
   "outputs": [],
   "source": [
    "ov.api.run(inputs=[\"exampleinput\"], annotators=[\"clinvar\", \"biogrid\"])"
   ]
  },
  {
   "cell_type": "markdown",
   "id": "917db383-c86e-4229-ac05-7e26a7ffc40d",
   "metadata": {},
   "source": [
    "##### Generate a VCF file of the annotated variants."
   ]
  },
  {
   "cell_type": "code",
   "execution_count": null,
   "id": "7241b6f4-f102-453d-919e-2bd6aceb167c",
   "metadata": {},
   "outputs": [],
   "source": [
    "ov.api.report(dbpath=\"exampleinput.sqlite\", report_types=[\"vcf\"], outer=ov.stdouter)"
   ]
  },
  {
   "cell_type": "markdown",
   "id": "3611e618-2a25-4d43-852e-869e02e695a6",
   "metadata": {},
   "source": [
    "##### Annotation and report generation can be done at once. Also, reports of different formats can be generated in one go."
   ]
  },
  {
   "cell_type": "code",
   "execution_count": null,
   "id": "0294224b-a62b-4ff6-bd08-be7e2af26ac8",
   "metadata": {
    "tags": []
   },
   "outputs": [],
   "source": [
    "ov.api.run(inputs=[\"exampleinput\"], annotators=[\"clinvar\", \"biogrid\"], report_types=[\"vcf\", \"csv\"], outer=ov.stdouter)"
   ]
  }
 ],
 "metadata": {
  "kernelspec": {
   "display_name": "Python 3 (ipykernel)",
   "language": "python",
   "name": "python3"
  },
  "language_info": {
   "codemirror_mode": {
    "name": "ipython",
    "version": 3
   },
   "file_extension": ".py",
   "mimetype": "text/x-python",
   "name": "python",
   "nbconvert_exporter": "python",
   "pygments_lexer": "ipython3",
   "version": "3.8.16"
  }
 },
 "nbformat": 4,
 "nbformat_minor": 5
}
